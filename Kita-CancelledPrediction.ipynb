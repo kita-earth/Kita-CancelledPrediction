{
 "cells": [
  {
   "cell_type": "code",
   "execution_count": 70,
   "id": "25a1d1d0",
   "metadata": {},
   "outputs": [],
   "source": [
    "import pandas as pd\n",
    "import matplotlib.pyplot as plt\n",
    "import seaborn as sns\n",
    "import numpy as np\n",
    "\n",
    "from sklearn.preprocessing import StandardScaler\n",
    "from sklearn.model_selection import StratifiedKFold, train_test_split\n",
    "from sklearn.ensemble import RandomForestClassifier\n",
    "from sklearn.linear_model import LogisticRegression\n",
    "from sklearn.svm import SVC\n",
    "from sklearn.model_selection import GridSearchCV\n",
    "from sklearn.metrics import classification_report, confusion_matrix, accuracy_score, precision_score, recall_score, roc_auc_score\n",
    "import xgboost as xgb\n",
    "\n",
    "from imblearn.over_sampling import SMOTE\n",
    "\n",
    "from scipy.stats import chi2_contingency"
   ]
  },
  {
   "cell_type": "code",
   "execution_count": 2,
   "id": "8d37b0e5",
   "metadata": {},
   "outputs": [],
   "source": [
    "pd.set_option('display.max_columns', None)"
   ]
  },
  {
   "cell_type": "code",
   "execution_count": 3,
   "id": "d2c76448",
   "metadata": {},
   "outputs": [],
   "source": [
    "xl = pd.ExcelFile('./2023-04-13_KitaTable_Final.xlsx')"
   ]
  },
  {
   "cell_type": "code",
   "execution_count": 4,
   "id": "09d7c216",
   "metadata": {},
   "outputs": [],
   "source": [
    "projects = xl.parse('Projects')\n",
    "issuances = xl.parse('Issuances')\n",
    "retirements = xl.parse('Credits')\n",
    "buffer = xl.parse('Buffer')\n",
    "countries = xl.parse('Countries')\n",
    "methodologies = xl.parse('Methodologies')"
   ]
  },
  {
   "cell_type": "code",
   "execution_count": 6,
   "id": "6c16fdf2",
   "metadata": {},
   "outputs": [],
   "source": [
    "def credits_to_vintages(df, credit_type):\n",
    "    grouped = df.groupby(['RegistryID', 'Vintage']) \\\n",
    "                .agg(credit = ('Amount', 'sum')) \\\n",
    "                .rename({'credit': credit_type}, axis=1) \\\n",
    "                .reset_index()\n",
    "    grouped['VintageNum'] = grouped.groupby('RegistryID').cumcount() + 1\n",
    "    \n",
    "    pivot = pd.pivot(grouped, index = 'RegistryID', columns = 'VintageNum', values = credit_type)\n",
    "    \n",
    "    pivot_sum = pivot.sum(axis=1)\n",
    "    vintage_pivot = pivot \\\n",
    "                        .loc[:, 1:3] \\\n",
    "                        .rename({\n",
    "                            1: f'{credit_type}_FirstVintage',\n",
    "                            2: f'{credit_type}_SecondVintage',\n",
    "                            3: f'{credit_type}_ThirdVintage',\n",
    "                            }, axis=1)\n",
    "    \n",
    "    vintage_pivot[f'Total{credit_type}'] = pivot_sum\n",
    "    \n",
    "    return vintage_pivot"
   ]
  },
  {
   "cell_type": "code",
   "execution_count": 7,
   "id": "61fc2347",
   "metadata": {},
   "outputs": [],
   "source": [
    "issued_vintage = credits_to_vintages(issuances, 'IssuedCredits')\n",
    "retired_vintage = credits_to_vintages(retirements, 'RetiredCredits')\n",
    "buffer_grouped = buffer.groupby('RegistryID').agg(Buffer = ('Amount', 'sum'))"
   ]
  },
  {
   "cell_type": "code",
   "execution_count": 8,
   "id": "583d600a",
   "metadata": {},
   "outputs": [],
   "source": [
    "credits = pd.concat([issued_vintage, retired_vintage, buffer_grouped], axis=1).reset_index()"
   ]
  },
  {
   "cell_type": "code",
   "execution_count": 9,
   "id": "13f594e9",
   "metadata": {},
   "outputs": [],
   "source": [
    "project_info = pd.merge(\n",
    "    pd.merge(projects, countries, left_on = 'Country', right_on = 'CountryCodeA3', how='left'),\n",
    "    methodologies,\n",
    "    left_on = 'Methodology',\n",
    "    right_on = 'MethodologyID',\n",
    "    how='left',\n",
    "    suffixes = ('_Projects', '_Methods')\n",
    ")"
   ]
  },
  {
   "cell_type": "code",
   "execution_count": 10,
   "id": "e116eada",
   "metadata": {},
   "outputs": [],
   "source": [
    "merged = pd.merge(project_info, credits, on='RegistryID', how='left')"
   ]
  },
  {
   "cell_type": "code",
   "execution_count": 11,
   "id": "8e43710a",
   "metadata": {},
   "outputs": [],
   "source": [
    "columns_epi = ['AMP.raw.2022', 'APR.raw.2020', 'BCA.raw.2019', 'BHV.raw.2020', 'BLC.raw.2019',\n",
    "           'CDA.raw.2019', 'CDL.raw.2017', 'CDO.raw.2019', 'CH4.raw.2019', 'CHA.raw.2019', \n",
    "           'COE.raw.2019', 'CXN.raw.2019', 'EEZ.raw.2022', 'FGA.raw.2019', 'FOG.raw.2019', \n",
    "           'FSS.raw.2018', 'FTD.raw.2018', 'GDB.raw.2020', 'GDP.raw.2020', 'GHG.raw.2019', \n",
    "           'GHI.raw.2019', 'GHN.raw.2019', 'GHP.raw.2019', 'GIB.raw.2019', 'GL5.raw.2020', \n",
    "           'GPC.raw.2020', 'GRA.raw.2020', 'GRL.raw.2020', 'HAD.raw.2019', 'LCB.raw.2017', \n",
    "           'MPA.raw.2022', 'MSW.raw.2019', 'NDA.raw.2019', 'NOE.raw.2019', 'NOT.raw.2019', \n",
    "           'NOX.raw.2019', 'NXA.raw.2019', 'OCP.raw.2020', 'OZD.raw.2019', 'PAR.raw.2020', \n",
    "           'PBD.raw.2019', 'PDN.raw.2020', 'PMD.raw.2019', 'POP.raw.2020', 'PST.raw.2020', \n",
    "           'REC.raw.2020', 'RMS.raw.2018', 'SDA.raw.2019', 'SHI.raw.2014', 'SNM.raw.2015', \n",
    "           'SO2.raw.2019', 'SOE.raw.2019', 'SPI.raw.2021', 'SPU.raw.2020', 'TBG.raw.2022', \n",
    "           'TBN.raw.2022', 'TC5.raw.2020', 'TCA.raw.2000', 'TCC.raw.2020', 'TCL.raw.2020', \n",
    "           'USD.raw.2019', 'UWD.raw.2019', 'VOE.raw.2019', 'WL5.raw.2020', 'WST.raw.2019', \n",
    "           'WTA.raw.2020', 'WTL.raw.2020', 'WWT.raw.2020']\n",
    "\n",
    "columns_wgi = ['WGI_VNA_2021', 'WGI_SNV_2021', 'WGI_GE_2021', 'WGI_RQ_2021', 'WGI_ROL_2021', 'WGI_COC_2021']"
   ]
  },
  {
   "cell_type": "code",
   "execution_count": 12,
   "id": "433683c1",
   "metadata": {},
   "outputs": [],
   "source": [
    "# model_df = pd.concat([\n",
    "#     merged.loc[:, columns_epi],\n",
    "#     merged.loc[:, columns_wgi],\n",
    "#     merged.loc[:, ['EstAnnualReductions', 'Sector']],\n",
    "#     merged.loc[:, 'IssuedCredits_FirstVintage':'Buffer'],\n",
    "#     merged.loc[:, 'Status']\n",
    "# ], axis=1)"
   ]
  },
  {
   "cell_type": "code",
   "execution_count": 13,
   "id": "85654464",
   "metadata": {},
   "outputs": [],
   "source": [
    "# model_df = pd.concat([\n",
    "#     merged.loc[:, ['EstAnnualReductions', 'Sector']],\n",
    "#     merged.loc[:, 'AMP.raw.1990':'WGI_COC_2021'],\n",
    "#     merged.loc[:, 'IssuedCredits_FirstVintage':'Buffer'],\n",
    "#     merged.loc[:, 'Status']\n",
    "# ], axis=1)"
   ]
  },
  {
   "cell_type": "code",
   "execution_count": 14,
   "id": "555df553",
   "metadata": {},
   "outputs": [],
   "source": [
    "model_df = merged.loc[:, ['RetiredCredits_FirstVintage', 'Sector', 'EPI.new', 'EstAnnualReductions', 'Status']]"
   ]
  },
  {
   "cell_type": "code",
   "execution_count": 15,
   "id": "90e93794",
   "metadata": {},
   "outputs": [],
   "source": [
    "# model_df = pd.concat([\n",
    "#     merged.loc[:, ['EstAnnualReductions', 'Sector']],\n",
    "#     merged.loc[:, 'EPI.new'],\n",
    "#     merged.loc[:, 'IssuedCredits_FirstVintage':'Buffer'],\n",
    "#     merged.loc[:, 'Status']\n",
    "# ], axis=1)"
   ]
  },
  {
   "cell_type": "code",
   "execution_count": 16,
   "id": "29eb73b8",
   "metadata": {},
   "outputs": [],
   "source": [
    "model_df['WGI'] = merged.loc[:, ['WGI_VNA_2021', 'WGI_SNV_2021', 'WGI_GE_2021', \n",
    "                                        'WGI_RQ_2021', 'WGI_ROL_2021', 'WGI_COC_2021']].mean(axis=1)"
   ]
  },
  {
   "cell_type": "code",
   "execution_count": 17,
   "id": "8f22d4d3",
   "metadata": {},
   "outputs": [],
   "source": [
    "model_df.dropna(subset = ['EstAnnualReductions','Status'], inplace=True)"
   ]
  },
  {
   "cell_type": "code",
   "execution_count": 18,
   "id": "3ce9f9c9",
   "metadata": {},
   "outputs": [],
   "source": [
    "model_df['Status'] = model_df['Status'].apply(lambda x: 1 if x == 'Cancelled/Rejected' else 0)"
   ]
  },
  {
   "cell_type": "code",
   "execution_count": 19,
   "id": "498116d5",
   "metadata": {},
   "outputs": [],
   "source": [
    "model_df = pd.get_dummies(model_df, drop_first = True)"
   ]
  },
  {
   "cell_type": "code",
   "execution_count": 20,
   "id": "3d8c5faa",
   "metadata": {},
   "outputs": [],
   "source": [
    "model_df = model_df.fillna(0)"
   ]
  },
  {
   "cell_type": "code",
   "execution_count": 21,
   "id": "d4bae0fb",
   "metadata": {},
   "outputs": [
    {
     "data": {
      "text/plain": [
       "0    18447\n",
       "1      448\n",
       "Name: Status, dtype: int64"
      ]
     },
     "execution_count": 21,
     "metadata": {},
     "output_type": "execute_result"
    }
   ],
   "source": [
    "model_df['Status'].value_counts()"
   ]
  },
  {
   "cell_type": "code",
   "execution_count": 194,
   "id": "cd8062bc",
   "metadata": {},
   "outputs": [],
   "source": [
    "# model_df.to_csv('./Boruta3.csv', index=False)"
   ]
  },
  {
   "cell_type": "markdown",
   "id": "fd57483e",
   "metadata": {},
   "source": [
    "### Chi-Squared test"
   ]
  },
  {
   "cell_type": "code",
   "execution_count": 22,
   "id": "7362acf5",
   "metadata": {},
   "outputs": [],
   "source": [
    "contingency = pd.crosstab(merged['Sector'], merged['Status'].apply(lambda x: 1 if x == 'Cancelled/Rejected' else 0))"
   ]
  },
  {
   "cell_type": "code",
   "execution_count": 23,
   "id": "9a5a6d00",
   "metadata": {},
   "outputs": [
    {
     "name": "stdout",
     "output_type": "stream",
     "text": [
      "1.7328192311115696e-05\n"
     ]
    }
   ],
   "source": [
    "# Chi-square test of independence. \n",
    "c, p, dof, expected = chi2_contingency(contingency) \n",
    "# Print the p-value\n",
    "print(p)"
   ]
  },
  {
   "cell_type": "markdown",
   "id": "d3a800f4",
   "metadata": {},
   "source": [
    "# Train Test Split"
   ]
  },
  {
   "cell_type": "code",
   "execution_count": 24,
   "id": "8db6a035",
   "metadata": {},
   "outputs": [
    {
     "data": {
      "text/html": [
       "<div>\n",
       "<style scoped>\n",
       "    .dataframe tbody tr th:only-of-type {\n",
       "        vertical-align: middle;\n",
       "    }\n",
       "\n",
       "    .dataframe tbody tr th {\n",
       "        vertical-align: top;\n",
       "    }\n",
       "\n",
       "    .dataframe thead th {\n",
       "        text-align: right;\n",
       "    }\n",
       "</style>\n",
       "<table border=\"1\" class=\"dataframe\">\n",
       "  <thead>\n",
       "    <tr style=\"text-align: right;\">\n",
       "      <th></th>\n",
       "      <th>RetiredCredits_FirstVintage</th>\n",
       "      <th>EPI.new</th>\n",
       "      <th>EstAnnualReductions</th>\n",
       "      <th>Status</th>\n",
       "      <th>WGI</th>\n",
       "      <th>Sector_Household Devices</th>\n",
       "      <th>Sector_Industrial Process</th>\n",
       "      <th>Sector_Nature Based Solution</th>\n",
       "      <th>Sector_Waste</th>\n",
       "    </tr>\n",
       "  </thead>\n",
       "  <tbody>\n",
       "    <tr>\n",
       "      <th>2662</th>\n",
       "      <td>4889573.0</td>\n",
       "      <td>18.9</td>\n",
       "      <td>3000000.0</td>\n",
       "      <td>0</td>\n",
       "      <td>47.799341</td>\n",
       "      <td>0</td>\n",
       "      <td>1</td>\n",
       "      <td>0</td>\n",
       "      <td>0</td>\n",
       "    </tr>\n",
       "    <tr>\n",
       "      <th>2663</th>\n",
       "      <td>0.0</td>\n",
       "      <td>46.9</td>\n",
       "      <td>1400000.0</td>\n",
       "      <td>0</td>\n",
       "      <td>80.294846</td>\n",
       "      <td>0</td>\n",
       "      <td>1</td>\n",
       "      <td>0</td>\n",
       "      <td>0</td>\n",
       "    </tr>\n",
       "    <tr>\n",
       "      <th>2664</th>\n",
       "      <td>67303.0</td>\n",
       "      <td>43.6</td>\n",
       "      <td>670133.0</td>\n",
       "      <td>0</td>\n",
       "      <td>40.818064</td>\n",
       "      <td>0</td>\n",
       "      <td>0</td>\n",
       "      <td>0</td>\n",
       "      <td>1</td>\n",
       "    </tr>\n",
       "    <tr>\n",
       "      <th>2665</th>\n",
       "      <td>2210.0</td>\n",
       "      <td>36.5</td>\n",
       "      <td>37032.0</td>\n",
       "      <td>0</td>\n",
       "      <td>23.664143</td>\n",
       "      <td>0</td>\n",
       "      <td>0</td>\n",
       "      <td>0</td>\n",
       "      <td>0</td>\n",
       "    </tr>\n",
       "    <tr>\n",
       "      <th>2666</th>\n",
       "      <td>0.0</td>\n",
       "      <td>28.4</td>\n",
       "      <td>8411432.0</td>\n",
       "      <td>0</td>\n",
       "      <td>44.061164</td>\n",
       "      <td>0</td>\n",
       "      <td>1</td>\n",
       "      <td>0</td>\n",
       "      <td>0</td>\n",
       "    </tr>\n",
       "  </tbody>\n",
       "</table>\n",
       "</div>"
      ],
      "text/plain": [
       "      RetiredCredits_FirstVintage  EPI.new  EstAnnualReductions  Status  \\\n",
       "2662                    4889573.0     18.9            3000000.0       0   \n",
       "2663                          0.0     46.9            1400000.0       0   \n",
       "2664                      67303.0     43.6             670133.0       0   \n",
       "2665                       2210.0     36.5              37032.0       0   \n",
       "2666                          0.0     28.4            8411432.0       0   \n",
       "\n",
       "            WGI  Sector_Household Devices  Sector_Industrial Process  \\\n",
       "2662  47.799341                         0                          1   \n",
       "2663  80.294846                         0                          1   \n",
       "2664  40.818064                         0                          0   \n",
       "2665  23.664143                         0                          0   \n",
       "2666  44.061164                         0                          1   \n",
       "\n",
       "      Sector_Nature Based Solution  Sector_Waste  \n",
       "2662                             0             0  \n",
       "2663                             0             0  \n",
       "2664                             0             1  \n",
       "2665                             0             0  \n",
       "2666                             0             0  "
      ]
     },
     "execution_count": 24,
     "metadata": {},
     "output_type": "execute_result"
    }
   ],
   "source": [
    "model_df.head()"
   ]
  },
  {
   "cell_type": "code",
   "execution_count": 59,
   "id": "882c889d",
   "metadata": {},
   "outputs": [],
   "source": [
    "X = model_df.dropna().drop('Status', axis=1).values\n",
    "y = model_df.dropna().loc[:, 'Status'].values"
   ]
  },
  {
   "cell_type": "code",
   "execution_count": 60,
   "id": "e186a6d3",
   "metadata": {},
   "outputs": [],
   "source": [
    "sc = StandardScaler()"
   ]
  },
  {
   "cell_type": "code",
   "execution_count": 61,
   "id": "ead85c69",
   "metadata": {},
   "outputs": [],
   "source": [
    "X_train, X_test, y_train, y_test = train_test_split(X, y, test_size=0.3, stratify=y, random_state=123)"
   ]
  },
  {
   "cell_type": "code",
   "execution_count": 62,
   "id": "733f6828",
   "metadata": {},
   "outputs": [],
   "source": [
    "X_train[:, :-4] = sc.fit_transform(X_train[:, :-4])\n",
    "X_test[:, :-4] = sc.transform(X_test[:, :-4])"
   ]
  },
  {
   "cell_type": "code",
   "execution_count": 63,
   "id": "7cbf31c6",
   "metadata": {},
   "outputs": [],
   "source": [
    "oversampling = SMOTE()\n",
    "X_train, y_train = oversampling.fit_resample(X_train, y_train)"
   ]
  },
  {
   "cell_type": "code",
   "execution_count": 30,
   "id": "9524f383",
   "metadata": {},
   "outputs": [
    {
     "data": {
      "text/html": [
       "<style>#sk-container-id-1 {color: black;background-color: white;}#sk-container-id-1 pre{padding: 0;}#sk-container-id-1 div.sk-toggleable {background-color: white;}#sk-container-id-1 label.sk-toggleable__label {cursor: pointer;display: block;width: 100%;margin-bottom: 0;padding: 0.3em;box-sizing: border-box;text-align: center;}#sk-container-id-1 label.sk-toggleable__label-arrow:before {content: \"▸\";float: left;margin-right: 0.25em;color: #696969;}#sk-container-id-1 label.sk-toggleable__label-arrow:hover:before {color: black;}#sk-container-id-1 div.sk-estimator:hover label.sk-toggleable__label-arrow:before {color: black;}#sk-container-id-1 div.sk-toggleable__content {max-height: 0;max-width: 0;overflow: hidden;text-align: left;background-color: #f0f8ff;}#sk-container-id-1 div.sk-toggleable__content pre {margin: 0.2em;color: black;border-radius: 0.25em;background-color: #f0f8ff;}#sk-container-id-1 input.sk-toggleable__control:checked~div.sk-toggleable__content {max-height: 200px;max-width: 100%;overflow: auto;}#sk-container-id-1 input.sk-toggleable__control:checked~label.sk-toggleable__label-arrow:before {content: \"▾\";}#sk-container-id-1 div.sk-estimator input.sk-toggleable__control:checked~label.sk-toggleable__label {background-color: #d4ebff;}#sk-container-id-1 div.sk-label input.sk-toggleable__control:checked~label.sk-toggleable__label {background-color: #d4ebff;}#sk-container-id-1 input.sk-hidden--visually {border: 0;clip: rect(1px 1px 1px 1px);clip: rect(1px, 1px, 1px, 1px);height: 1px;margin: -1px;overflow: hidden;padding: 0;position: absolute;width: 1px;}#sk-container-id-1 div.sk-estimator {font-family: monospace;background-color: #f0f8ff;border: 1px dotted black;border-radius: 0.25em;box-sizing: border-box;margin-bottom: 0.5em;}#sk-container-id-1 div.sk-estimator:hover {background-color: #d4ebff;}#sk-container-id-1 div.sk-parallel-item::after {content: \"\";width: 100%;border-bottom: 1px solid gray;flex-grow: 1;}#sk-container-id-1 div.sk-label:hover label.sk-toggleable__label {background-color: #d4ebff;}#sk-container-id-1 div.sk-serial::before {content: \"\";position: absolute;border-left: 1px solid gray;box-sizing: border-box;top: 0;bottom: 0;left: 50%;z-index: 0;}#sk-container-id-1 div.sk-serial {display: flex;flex-direction: column;align-items: center;background-color: white;padding-right: 0.2em;padding-left: 0.2em;position: relative;}#sk-container-id-1 div.sk-item {position: relative;z-index: 1;}#sk-container-id-1 div.sk-parallel {display: flex;align-items: stretch;justify-content: center;background-color: white;position: relative;}#sk-container-id-1 div.sk-item::before, #sk-container-id-1 div.sk-parallel-item::before {content: \"\";position: absolute;border-left: 1px solid gray;box-sizing: border-box;top: 0;bottom: 0;left: 50%;z-index: -1;}#sk-container-id-1 div.sk-parallel-item {display: flex;flex-direction: column;z-index: 1;position: relative;background-color: white;}#sk-container-id-1 div.sk-parallel-item:first-child::after {align-self: flex-end;width: 50%;}#sk-container-id-1 div.sk-parallel-item:last-child::after {align-self: flex-start;width: 50%;}#sk-container-id-1 div.sk-parallel-item:only-child::after {width: 0;}#sk-container-id-1 div.sk-dashed-wrapped {border: 1px dashed gray;margin: 0 0.4em 0.5em 0.4em;box-sizing: border-box;padding-bottom: 0.4em;background-color: white;}#sk-container-id-1 div.sk-label label {font-family: monospace;font-weight: bold;display: inline-block;line-height: 1.2em;}#sk-container-id-1 div.sk-label-container {text-align: center;}#sk-container-id-1 div.sk-container {/* jupyter's `normalize.less` sets `[hidden] { display: none; }` but bootstrap.min.css set `[hidden] { display: none !important; }` so we also need the `!important` here to be able to override the default hidden behavior on the sphinx rendered scikit-learn.org. See: https://github.com/scikit-learn/scikit-learn/issues/21755 */display: inline-block !important;position: relative;}#sk-container-id-1 div.sk-text-repr-fallback {display: none;}</style><div id=\"sk-container-id-1\" class=\"sk-top-container\"><div class=\"sk-text-repr-fallback\"><pre>RandomForestClassifier(n_estimators=300, random_state=123)</pre><b>In a Jupyter environment, please rerun this cell to show the HTML representation or trust the notebook. <br />On GitHub, the HTML representation is unable to render, please try loading this page with nbviewer.org.</b></div><div class=\"sk-container\" hidden><div class=\"sk-item\"><div class=\"sk-estimator sk-toggleable\"><input class=\"sk-toggleable__control sk-hidden--visually\" id=\"sk-estimator-id-1\" type=\"checkbox\" checked><label for=\"sk-estimator-id-1\" class=\"sk-toggleable__label sk-toggleable__label-arrow\">RandomForestClassifier</label><div class=\"sk-toggleable__content\"><pre>RandomForestClassifier(n_estimators=300, random_state=123)</pre></div></div></div></div></div>"
      ],
      "text/plain": [
       "RandomForestClassifier(n_estimators=300, random_state=123)"
      ]
     },
     "execution_count": 30,
     "metadata": {},
     "output_type": "execute_result"
    }
   ],
   "source": [
    "rf = RandomForestClassifier(n_estimators=300, random_state=123)\n",
    "rf.fit(X_train, y_train)"
   ]
  },
  {
   "cell_type": "code",
   "execution_count": 31,
   "id": "b79a874d",
   "metadata": {},
   "outputs": [],
   "source": [
    "y_pred = rf.predict(X_test)"
   ]
  },
  {
   "cell_type": "code",
   "execution_count": 32,
   "id": "d6bd7e49",
   "metadata": {},
   "outputs": [
    {
     "data": {
      "text/plain": [
       "134"
      ]
     },
     "execution_count": 32,
     "metadata": {},
     "output_type": "execute_result"
    }
   ],
   "source": [
    "sum(y_test == 1)"
   ]
  },
  {
   "cell_type": "code",
   "execution_count": 34,
   "id": "82df49a0",
   "metadata": {},
   "outputs": [
    {
     "name": "stdout",
     "output_type": "stream",
     "text": [
      "[[4618  917]\n",
      " [  71   63]]\n"
     ]
    }
   ],
   "source": [
    "print(confusion_matrix(y_test, y_pred))"
   ]
  },
  {
   "cell_type": "code",
   "execution_count": 35,
   "id": "98aebaf4",
   "metadata": {},
   "outputs": [
    {
     "name": "stdout",
     "output_type": "stream",
     "text": [
      "              precision    recall  f1-score   support\n",
      "\n",
      "           0       0.98      0.83      0.90      5535\n",
      "           1       0.06      0.47      0.11       134\n",
      "\n",
      "    accuracy                           0.83      5669\n",
      "   macro avg       0.52      0.65      0.51      5669\n",
      "weighted avg       0.96      0.83      0.88      5669\n",
      "\n"
     ]
    }
   ],
   "source": [
    "print(classification_report(y_test, y_pred))"
   ]
  },
  {
   "cell_type": "code",
   "execution_count": 36,
   "id": "e3f848bc",
   "metadata": {},
   "outputs": [
    {
     "name": "stdout",
     "output_type": "stream",
     "text": [
      "\n",
      "Precision: 0.06428571428571428\n",
      "Recall: 0.4701492537313433\n",
      "Area Under Curve (AUC): 0.6522381318340547\n",
      "\n"
     ]
    }
   ],
   "source": [
    "print(f'''\n",
    "Precision: {precision_score(y_test, y_pred)}\n",
    "Recall: {recall_score(y_test, y_pred)}\n",
    "Area Under Curve (AUC): {roc_auc_score(y_test, y_pred)}\n",
    "''')"
   ]
  },
  {
   "cell_type": "code",
   "execution_count": null,
   "id": "9e18add3",
   "metadata": {},
   "outputs": [],
   "source": []
  },
  {
   "cell_type": "code",
   "execution_count": null,
   "id": "811398fb",
   "metadata": {},
   "outputs": [],
   "source": []
  },
  {
   "cell_type": "markdown",
   "id": "d7582529",
   "metadata": {},
   "source": [
    "## Support Vector Machine"
   ]
  },
  {
   "cell_type": "code",
   "execution_count": 266,
   "id": "50d1da27",
   "metadata": {},
   "outputs": [
    {
     "data": {
      "text/html": [
       "<style>#sk-container-id-17 {color: black;background-color: white;}#sk-container-id-17 pre{padding: 0;}#sk-container-id-17 div.sk-toggleable {background-color: white;}#sk-container-id-17 label.sk-toggleable__label {cursor: pointer;display: block;width: 100%;margin-bottom: 0;padding: 0.3em;box-sizing: border-box;text-align: center;}#sk-container-id-17 label.sk-toggleable__label-arrow:before {content: \"▸\";float: left;margin-right: 0.25em;color: #696969;}#sk-container-id-17 label.sk-toggleable__label-arrow:hover:before {color: black;}#sk-container-id-17 div.sk-estimator:hover label.sk-toggleable__label-arrow:before {color: black;}#sk-container-id-17 div.sk-toggleable__content {max-height: 0;max-width: 0;overflow: hidden;text-align: left;background-color: #f0f8ff;}#sk-container-id-17 div.sk-toggleable__content pre {margin: 0.2em;color: black;border-radius: 0.25em;background-color: #f0f8ff;}#sk-container-id-17 input.sk-toggleable__control:checked~div.sk-toggleable__content {max-height: 200px;max-width: 100%;overflow: auto;}#sk-container-id-17 input.sk-toggleable__control:checked~label.sk-toggleable__label-arrow:before {content: \"▾\";}#sk-container-id-17 div.sk-estimator input.sk-toggleable__control:checked~label.sk-toggleable__label {background-color: #d4ebff;}#sk-container-id-17 div.sk-label input.sk-toggleable__control:checked~label.sk-toggleable__label {background-color: #d4ebff;}#sk-container-id-17 input.sk-hidden--visually {border: 0;clip: rect(1px 1px 1px 1px);clip: rect(1px, 1px, 1px, 1px);height: 1px;margin: -1px;overflow: hidden;padding: 0;position: absolute;width: 1px;}#sk-container-id-17 div.sk-estimator {font-family: monospace;background-color: #f0f8ff;border: 1px dotted black;border-radius: 0.25em;box-sizing: border-box;margin-bottom: 0.5em;}#sk-container-id-17 div.sk-estimator:hover {background-color: #d4ebff;}#sk-container-id-17 div.sk-parallel-item::after {content: \"\";width: 100%;border-bottom: 1px solid gray;flex-grow: 1;}#sk-container-id-17 div.sk-label:hover label.sk-toggleable__label {background-color: #d4ebff;}#sk-container-id-17 div.sk-serial::before {content: \"\";position: absolute;border-left: 1px solid gray;box-sizing: border-box;top: 0;bottom: 0;left: 50%;z-index: 0;}#sk-container-id-17 div.sk-serial {display: flex;flex-direction: column;align-items: center;background-color: white;padding-right: 0.2em;padding-left: 0.2em;position: relative;}#sk-container-id-17 div.sk-item {position: relative;z-index: 1;}#sk-container-id-17 div.sk-parallel {display: flex;align-items: stretch;justify-content: center;background-color: white;position: relative;}#sk-container-id-17 div.sk-item::before, #sk-container-id-17 div.sk-parallel-item::before {content: \"\";position: absolute;border-left: 1px solid gray;box-sizing: border-box;top: 0;bottom: 0;left: 50%;z-index: -1;}#sk-container-id-17 div.sk-parallel-item {display: flex;flex-direction: column;z-index: 1;position: relative;background-color: white;}#sk-container-id-17 div.sk-parallel-item:first-child::after {align-self: flex-end;width: 50%;}#sk-container-id-17 div.sk-parallel-item:last-child::after {align-self: flex-start;width: 50%;}#sk-container-id-17 div.sk-parallel-item:only-child::after {width: 0;}#sk-container-id-17 div.sk-dashed-wrapped {border: 1px dashed gray;margin: 0 0.4em 0.5em 0.4em;box-sizing: border-box;padding-bottom: 0.4em;background-color: white;}#sk-container-id-17 div.sk-label label {font-family: monospace;font-weight: bold;display: inline-block;line-height: 1.2em;}#sk-container-id-17 div.sk-label-container {text-align: center;}#sk-container-id-17 div.sk-container {/* jupyter's `normalize.less` sets `[hidden] { display: none; }` but bootstrap.min.css set `[hidden] { display: none !important; }` so we also need the `!important` here to be able to override the default hidden behavior on the sphinx rendered scikit-learn.org. See: https://github.com/scikit-learn/scikit-learn/issues/21755 */display: inline-block !important;position: relative;}#sk-container-id-17 div.sk-text-repr-fallback {display: none;}</style><div id=\"sk-container-id-17\" class=\"sk-top-container\"><div class=\"sk-text-repr-fallback\"><pre>SVC()</pre><b>In a Jupyter environment, please rerun this cell to show the HTML representation or trust the notebook. <br />On GitHub, the HTML representation is unable to render, please try loading this page with nbviewer.org.</b></div><div class=\"sk-container\" hidden><div class=\"sk-item\"><div class=\"sk-estimator sk-toggleable\"><input class=\"sk-toggleable__control sk-hidden--visually\" id=\"sk-estimator-id-17\" type=\"checkbox\" checked><label for=\"sk-estimator-id-17\" class=\"sk-toggleable__label sk-toggleable__label-arrow\">SVC</label><div class=\"sk-toggleable__content\"><pre>SVC()</pre></div></div></div></div></div>"
      ],
      "text/plain": [
       "SVC()"
      ]
     },
     "execution_count": 266,
     "metadata": {},
     "output_type": "execute_result"
    }
   ],
   "source": [
    "svc = SVC()\n",
    "svc.fit(X_train, y_train)"
   ]
  },
  {
   "cell_type": "code",
   "execution_count": 267,
   "id": "67858a87",
   "metadata": {},
   "outputs": [],
   "source": [
    "y_pred = svc.predict(X_test)"
   ]
  },
  {
   "cell_type": "code",
   "execution_count": 268,
   "id": "9606590c",
   "metadata": {},
   "outputs": [
    {
     "name": "stdout",
     "output_type": "stream",
     "text": [
      "[[3570 1965]\n",
      " [  47   87]]\n"
     ]
    }
   ],
   "source": [
    "print(confusion_matrix(y_test, y_pred))"
   ]
  },
  {
   "cell_type": "code",
   "execution_count": 269,
   "id": "0f2df644",
   "metadata": {},
   "outputs": [
    {
     "name": "stdout",
     "output_type": "stream",
     "text": [
      "              precision    recall  f1-score   support\n",
      "\n",
      "           0       0.99      0.64      0.78      5535\n",
      "           1       0.04      0.65      0.08       134\n",
      "\n",
      "    accuracy                           0.65      5669\n",
      "   macro avg       0.51      0.65      0.43      5669\n",
      "weighted avg       0.96      0.65      0.76      5669\n",
      "\n"
     ]
    }
   ],
   "source": [
    "print(classification_report(y_test, y_pred))"
   ]
  },
  {
   "cell_type": "code",
   "execution_count": 270,
   "id": "c06859f6",
   "metadata": {},
   "outputs": [
    {
     "name": "stdout",
     "output_type": "stream",
     "text": [
      "\n",
      "Precision: 0.04239766081871345\n",
      "Recall: 0.6492537313432836\n",
      "Area Under Curve (AUC): 0.6471200906038911\n",
      "\n"
     ]
    }
   ],
   "source": [
    "print(f'''\n",
    "Precision: {precision_score(y_test, y_pred)}\n",
    "Recall: {recall_score(y_test, y_pred)}\n",
    "Area Under Curve (AUC): {roc_auc_score(y_test, y_pred)}\n",
    "''')"
   ]
  },
  {
   "cell_type": "code",
   "execution_count": null,
   "id": "b242a63f",
   "metadata": {},
   "outputs": [],
   "source": []
  },
  {
   "cell_type": "code",
   "execution_count": null,
   "id": "7a868a2b",
   "metadata": {},
   "outputs": [],
   "source": []
  },
  {
   "cell_type": "markdown",
   "id": "70d74971",
   "metadata": {},
   "source": [
    "# ANN"
   ]
  },
  {
   "cell_type": "code",
   "execution_count": 271,
   "id": "f8a6f629",
   "metadata": {},
   "outputs": [],
   "source": [
    "from tensorflow.keras.models import Sequential\n",
    "from tensorflow.keras.layers import Dense, Dropout"
   ]
  },
  {
   "cell_type": "code",
   "execution_count": 272,
   "id": "50a2119c",
   "metadata": {},
   "outputs": [],
   "source": [
    "model = Sequential([\n",
    "    Dense(1024, activation='relu', input_shape=(X_train.shape[1],)),\n",
    "    Dropout(0.5),\n",
    "    Dense(512, activation='relu'),\n",
    "    Dropout(0.5),\n",
    "    Dense(64, activation = 'relu'),\n",
    "    Dropout(0.5),\n",
    "    Dense(1, activation='sigmoid')\n",
    "])"
   ]
  },
  {
   "cell_type": "code",
   "execution_count": 273,
   "id": "cb3f01a0",
   "metadata": {},
   "outputs": [],
   "source": [
    "model.compile(loss='binary_crossentropy', optimizer='adam', metrics=['accuracy'])"
   ]
  },
  {
   "cell_type": "code",
   "execution_count": 274,
   "id": "4e058235",
   "metadata": {
    "scrolled": false
   },
   "outputs": [
    {
     "name": "stdout",
     "output_type": "stream",
     "text": [
      "Epoch 1/100\n",
      "646/646 [==============================] - 3s 3ms/step - loss: 0.6012 - accuracy: 0.6730 - val_loss: 0.9634 - val_accuracy: 0.3557\n",
      "Epoch 2/100\n",
      "646/646 [==============================] - 2s 4ms/step - loss: 0.5676 - accuracy: 0.7023 - val_loss: 0.7673 - val_accuracy: 0.4802\n",
      "Epoch 3/100\n",
      "646/646 [==============================] - 2s 4ms/step - loss: 0.5535 - accuracy: 0.7173 - val_loss: 0.6097 - val_accuracy: 0.6709\n",
      "Epoch 4/100\n",
      "646/646 [==============================] - 2s 3ms/step - loss: 0.5429 - accuracy: 0.7277 - val_loss: 0.8066 - val_accuracy: 0.4488\n",
      "Epoch 5/100\n",
      "646/646 [==============================] - 2s 3ms/step - loss: 0.5363 - accuracy: 0.7291 - val_loss: 0.7144 - val_accuracy: 0.4358\n",
      "Epoch 6/100\n",
      "646/646 [==============================] - 2s 4ms/step - loss: 0.5292 - accuracy: 0.7337 - val_loss: 0.7022 - val_accuracy: 0.5400\n",
      "Epoch 7/100\n",
      "646/646 [==============================] - 2s 4ms/step - loss: 0.5225 - accuracy: 0.7363 - val_loss: 0.6953 - val_accuracy: 0.4790\n",
      "Epoch 8/100\n",
      "646/646 [==============================] - 2s 3ms/step - loss: 0.5179 - accuracy: 0.7412 - val_loss: 0.6403 - val_accuracy: 0.5229\n",
      "Epoch 9/100\n",
      "646/646 [==============================] - 2s 3ms/step - loss: 0.5136 - accuracy: 0.7433 - val_loss: 0.7618 - val_accuracy: 0.4955\n",
      "Epoch 10/100\n",
      "646/646 [==============================] - 2s 3ms/step - loss: 0.5122 - accuracy: 0.7472 - val_loss: 0.8164 - val_accuracy: 0.4898\n",
      "Epoch 11/100\n",
      "646/646 [==============================] - 2s 3ms/step - loss: 0.5061 - accuracy: 0.7467 - val_loss: 0.6583 - val_accuracy: 0.5526\n",
      "Epoch 12/100\n",
      "646/646 [==============================] - 2s 3ms/step - loss: 0.5074 - accuracy: 0.7481 - val_loss: 0.6998 - val_accuracy: 0.5390\n",
      "Epoch 13/100\n",
      "646/646 [==============================] - 2s 3ms/step - loss: 0.5058 - accuracy: 0.7508 - val_loss: 0.6720 - val_accuracy: 0.5526\n",
      "Epoch 14/100\n",
      "646/646 [==============================] - 2s 4ms/step - loss: 0.5016 - accuracy: 0.7520 - val_loss: 0.7126 - val_accuracy: 0.5198\n",
      "Epoch 15/100\n",
      "646/646 [==============================] - 2s 4ms/step - loss: 0.5008 - accuracy: 0.7559 - val_loss: 0.7412 - val_accuracy: 0.5152\n",
      "Epoch 16/100\n",
      "646/646 [==============================] - 2s 4ms/step - loss: 0.4994 - accuracy: 0.7563 - val_loss: 0.7269 - val_accuracy: 0.5229\n",
      "Epoch 17/100\n",
      "646/646 [==============================] - 2s 4ms/step - loss: 0.4992 - accuracy: 0.7559 - val_loss: 0.6329 - val_accuracy: 0.5841\n",
      "Epoch 18/100\n",
      "646/646 [==============================] - 2s 4ms/step - loss: 0.4962 - accuracy: 0.7575 - val_loss: 0.7122 - val_accuracy: 0.5278\n",
      "Epoch 19/100\n",
      "646/646 [==============================] - 2s 4ms/step - loss: 0.4966 - accuracy: 0.7604 - val_loss: 0.7500 - val_accuracy: 0.5599\n",
      "Epoch 20/100\n",
      "646/646 [==============================] - 2s 4ms/step - loss: 0.4931 - accuracy: 0.7623 - val_loss: 0.6160 - val_accuracy: 0.5915\n",
      "Epoch 21/100\n",
      "646/646 [==============================] - 2s 4ms/step - loss: 0.4897 - accuracy: 0.7630 - val_loss: 0.6551 - val_accuracy: 0.6110\n",
      "Epoch 22/100\n",
      "646/646 [==============================] - 2s 4ms/step - loss: 0.4901 - accuracy: 0.7629 - val_loss: 0.6047 - val_accuracy: 0.6002\n",
      "Epoch 23/100\n",
      "646/646 [==============================] - 2s 4ms/step - loss: 0.4882 - accuracy: 0.7663 - val_loss: 0.6469 - val_accuracy: 0.5706\n",
      "Epoch 24/100\n",
      "646/646 [==============================] - 2s 4ms/step - loss: 0.4892 - accuracy: 0.7688 - val_loss: 0.6763 - val_accuracy: 0.5754\n",
      "Epoch 25/100\n",
      "646/646 [==============================] - 2s 4ms/step - loss: 0.4852 - accuracy: 0.7690 - val_loss: 0.6680 - val_accuracy: 0.5839\n",
      "Epoch 26/100\n",
      "646/646 [==============================] - 2s 4ms/step - loss: 0.4869 - accuracy: 0.7676 - val_loss: 0.6820 - val_accuracy: 0.5874\n",
      "Epoch 27/100\n",
      "646/646 [==============================] - 2s 4ms/step - loss: 0.4826 - accuracy: 0.7662 - val_loss: 0.6481 - val_accuracy: 0.6136\n",
      "Epoch 28/100\n",
      "646/646 [==============================] - 2s 4ms/step - loss: 0.4859 - accuracy: 0.7692 - val_loss: 0.6623 - val_accuracy: 0.5892\n",
      "Epoch 29/100\n",
      "646/646 [==============================] - 2s 4ms/step - loss: 0.4819 - accuracy: 0.7696 - val_loss: 0.6463 - val_accuracy: 0.6182\n",
      "Epoch 30/100\n",
      "646/646 [==============================] - 2s 4ms/step - loss: 0.4805 - accuracy: 0.7739 - val_loss: 0.6196 - val_accuracy: 0.6031\n",
      "Epoch 31/100\n",
      "646/646 [==============================] - 2s 4ms/step - loss: 0.4804 - accuracy: 0.7704 - val_loss: 0.6717 - val_accuracy: 0.5913\n",
      "Epoch 32/100\n",
      "646/646 [==============================] - 2s 4ms/step - loss: 0.4773 - accuracy: 0.7748 - val_loss: 0.6606 - val_accuracy: 0.6029\n",
      "Epoch 33/100\n",
      "646/646 [==============================] - 2s 4ms/step - loss: 0.4786 - accuracy: 0.7685 - val_loss: 0.6144 - val_accuracy: 0.5864\n",
      "Epoch 34/100\n",
      "646/646 [==============================] - 2s 4ms/step - loss: 0.4801 - accuracy: 0.7719 - val_loss: 0.6195 - val_accuracy: 0.5888\n",
      "Epoch 35/100\n",
      "646/646 [==============================] - 3s 5ms/step - loss: 0.4804 - accuracy: 0.7726 - val_loss: 0.6504 - val_accuracy: 0.6081\n",
      "Epoch 36/100\n",
      "646/646 [==============================] - 3s 4ms/step - loss: 0.4752 - accuracy: 0.7751 - val_loss: 0.6260 - val_accuracy: 0.6234\n",
      "Epoch 37/100\n",
      "646/646 [==============================] - 3s 4ms/step - loss: 0.4755 - accuracy: 0.7748 - val_loss: 0.6693 - val_accuracy: 0.5717\n",
      "Epoch 38/100\n",
      "646/646 [==============================] - 2s 4ms/step - loss: 0.4757 - accuracy: 0.7750 - val_loss: 0.6521 - val_accuracy: 0.6213\n",
      "Epoch 39/100\n",
      "646/646 [==============================] - 2s 4ms/step - loss: 0.4752 - accuracy: 0.7758 - val_loss: 0.6608 - val_accuracy: 0.6130\n",
      "Epoch 40/100\n",
      "646/646 [==============================] - 2s 4ms/step - loss: 0.4767 - accuracy: 0.7754 - val_loss: 0.6000 - val_accuracy: 0.6095\n",
      "Epoch 41/100\n",
      "646/646 [==============================] - 2s 4ms/step - loss: 0.4712 - accuracy: 0.7757 - val_loss: 0.6204 - val_accuracy: 0.5957\n",
      "Epoch 42/100\n",
      "646/646 [==============================] - 2s 4ms/step - loss: 0.4741 - accuracy: 0.7754 - val_loss: 0.6661 - val_accuracy: 0.5919\n",
      "Epoch 43/100\n",
      "646/646 [==============================] - 2s 4ms/step - loss: 0.4703 - accuracy: 0.7763 - val_loss: 0.6096 - val_accuracy: 0.6134\n",
      "Epoch 44/100\n",
      "646/646 [==============================] - 2s 4ms/step - loss: 0.4709 - accuracy: 0.7757 - val_loss: 0.6220 - val_accuracy: 0.6008\n",
      "Epoch 45/100\n",
      "646/646 [==============================] - 2s 4ms/step - loss: 0.4692 - accuracy: 0.7774 - val_loss: 0.5514 - val_accuracy: 0.6755\n",
      "Epoch 46/100\n",
      "646/646 [==============================] - 2s 4ms/step - loss: 0.4693 - accuracy: 0.7803 - val_loss: 0.5830 - val_accuracy: 0.6728\n",
      "Epoch 47/100\n",
      "646/646 [==============================] - 2s 4ms/step - loss: 0.4692 - accuracy: 0.7759 - val_loss: 0.6510 - val_accuracy: 0.6050\n",
      "Epoch 48/100\n",
      "646/646 [==============================] - 2s 4ms/step - loss: 0.4715 - accuracy: 0.7784 - val_loss: 0.5992 - val_accuracy: 0.5973\n",
      "Epoch 49/100\n",
      "646/646 [==============================] - 2s 4ms/step - loss: 0.4669 - accuracy: 0.7811 - val_loss: 0.6357 - val_accuracy: 0.6079\n",
      "Epoch 50/100\n",
      "646/646 [==============================] - 2s 4ms/step - loss: 0.4688 - accuracy: 0.7782 - val_loss: 0.6087 - val_accuracy: 0.6292\n",
      "Epoch 51/100\n",
      "646/646 [==============================] - 2s 4ms/step - loss: 0.4711 - accuracy: 0.7823 - val_loss: 0.6249 - val_accuracy: 0.5936\n",
      "Epoch 52/100\n",
      "646/646 [==============================] - 2s 4ms/step - loss: 0.4667 - accuracy: 0.7797 - val_loss: 0.6608 - val_accuracy: 0.6045\n",
      "Epoch 53/100\n",
      "646/646 [==============================] - 2s 4ms/step - loss: 0.4678 - accuracy: 0.7799 - val_loss: 0.6229 - val_accuracy: 0.6227\n",
      "Epoch 54/100\n",
      "646/646 [==============================] - 2s 4ms/step - loss: 0.4638 - accuracy: 0.7785 - val_loss: 0.5843 - val_accuracy: 0.6674\n",
      "Epoch 55/100\n",
      "646/646 [==============================] - 2s 4ms/step - loss: 0.4666 - accuracy: 0.7790 - val_loss: 0.5991 - val_accuracy: 0.6308\n",
      "Epoch 56/100\n",
      "646/646 [==============================] - 2s 4ms/step - loss: 0.4667 - accuracy: 0.7802 - val_loss: 0.6330 - val_accuracy: 0.6401\n",
      "Epoch 57/100\n",
      "646/646 [==============================] - 2s 4ms/step - loss: 0.4643 - accuracy: 0.7813 - val_loss: 0.5796 - val_accuracy: 0.6081\n"
     ]
    },
    {
     "name": "stdout",
     "output_type": "stream",
     "text": [
      "Epoch 58/100\n",
      "646/646 [==============================] - 2s 4ms/step - loss: 0.4654 - accuracy: 0.7822 - val_loss: 0.6125 - val_accuracy: 0.6139\n",
      "Epoch 59/100\n",
      "646/646 [==============================] - 2s 4ms/step - loss: 0.4637 - accuracy: 0.7804 - val_loss: 0.6624 - val_accuracy: 0.6095\n",
      "Epoch 60/100\n",
      "646/646 [==============================] - 2s 4ms/step - loss: 0.4624 - accuracy: 0.7829 - val_loss: 0.6702 - val_accuracy: 0.5872\n",
      "Epoch 61/100\n",
      "646/646 [==============================] - 2s 4ms/step - loss: 0.4638 - accuracy: 0.7800 - val_loss: 0.6161 - val_accuracy: 0.6087\n",
      "Epoch 62/100\n",
      "646/646 [==============================] - 2s 4ms/step - loss: 0.4633 - accuracy: 0.7837 - val_loss: 0.6233 - val_accuracy: 0.6019\n",
      "Epoch 63/100\n",
      "646/646 [==============================] - 2s 4ms/step - loss: 0.4630 - accuracy: 0.7847 - val_loss: 0.6550 - val_accuracy: 0.6167\n",
      "Epoch 64/100\n",
      "646/646 [==============================] - 2s 4ms/step - loss: 0.4638 - accuracy: 0.7819 - val_loss: 0.5940 - val_accuracy: 0.6348\n",
      "Epoch 65/100\n",
      "646/646 [==============================] - 2s 4ms/step - loss: 0.4613 - accuracy: 0.7831 - val_loss: 0.6045 - val_accuracy: 0.6211\n",
      "Epoch 66/100\n",
      "646/646 [==============================] - 2s 4ms/step - loss: 0.4604 - accuracy: 0.7872 - val_loss: 0.5637 - val_accuracy: 0.6596\n",
      "Epoch 67/100\n",
      "646/646 [==============================] - 2s 4ms/step - loss: 0.4614 - accuracy: 0.7830 - val_loss: 0.6295 - val_accuracy: 0.6271\n",
      "Epoch 68/100\n",
      "646/646 [==============================] - 2s 4ms/step - loss: 0.4669 - accuracy: 0.7831 - val_loss: 0.6520 - val_accuracy: 0.6215\n",
      "Epoch 69/100\n",
      "646/646 [==============================] - 2s 4ms/step - loss: 0.4595 - accuracy: 0.7811 - val_loss: 0.6273 - val_accuracy: 0.6180\n",
      "Epoch 70/100\n",
      "646/646 [==============================] - 2s 4ms/step - loss: 0.4602 - accuracy: 0.7826 - val_loss: 0.6804 - val_accuracy: 0.6112\n",
      "Epoch 71/100\n",
      "646/646 [==============================] - 2s 4ms/step - loss: 0.4582 - accuracy: 0.7860 - val_loss: 0.5951 - val_accuracy: 0.6401\n",
      "Epoch 72/100\n",
      "646/646 [==============================] - 2s 4ms/step - loss: 0.4599 - accuracy: 0.7822 - val_loss: 0.5891 - val_accuracy: 0.6500\n",
      "Epoch 73/100\n",
      "646/646 [==============================] - 2s 4ms/step - loss: 0.4589 - accuracy: 0.7855 - val_loss: 0.6515 - val_accuracy: 0.6203\n",
      "Epoch 74/100\n",
      "646/646 [==============================] - 2s 4ms/step - loss: 0.4597 - accuracy: 0.7829 - val_loss: 0.6009 - val_accuracy: 0.6339\n",
      "Epoch 75/100\n",
      "646/646 [==============================] - 2s 4ms/step - loss: 0.4577 - accuracy: 0.7839 - val_loss: 0.6534 - val_accuracy: 0.6128\n",
      "Epoch 76/100\n",
      "646/646 [==============================] - 2s 4ms/step - loss: 0.4587 - accuracy: 0.7831 - val_loss: 0.6117 - val_accuracy: 0.6443\n",
      "Epoch 77/100\n",
      "646/646 [==============================] - 2s 4ms/step - loss: 0.4555 - accuracy: 0.7857 - val_loss: 0.5921 - val_accuracy: 0.6519\n",
      "Epoch 78/100\n",
      "646/646 [==============================] - 2s 4ms/step - loss: 0.4578 - accuracy: 0.7848 - val_loss: 0.6709 - val_accuracy: 0.6186\n",
      "Epoch 79/100\n",
      "646/646 [==============================] - 2s 4ms/step - loss: 0.4587 - accuracy: 0.7837 - val_loss: 0.6278 - val_accuracy: 0.6345\n",
      "Epoch 80/100\n",
      "646/646 [==============================] - 2s 4ms/step - loss: 0.4578 - accuracy: 0.7844 - val_loss: 0.6004 - val_accuracy: 0.6321\n",
      "Epoch 81/100\n",
      "646/646 [==============================] - 2s 4ms/step - loss: 0.4568 - accuracy: 0.7855 - val_loss: 0.5973 - val_accuracy: 0.6093\n",
      "Epoch 82/100\n",
      "646/646 [==============================] - 2s 4ms/step - loss: 0.4558 - accuracy: 0.7870 - val_loss: 0.6217 - val_accuracy: 0.6207\n",
      "Epoch 83/100\n",
      "646/646 [==============================] - 2s 4ms/step - loss: 0.4567 - accuracy: 0.7876 - val_loss: 0.6130 - val_accuracy: 0.6368\n",
      "Epoch 84/100\n",
      "646/646 [==============================] - 2s 4ms/step - loss: 0.4556 - accuracy: 0.7868 - val_loss: 0.5819 - val_accuracy: 0.6329\n",
      "Epoch 85/100\n",
      "646/646 [==============================] - 2s 4ms/step - loss: 0.4573 - accuracy: 0.7845 - val_loss: 0.5941 - val_accuracy: 0.6478\n",
      "Epoch 86/100\n",
      "646/646 [==============================] - 2s 4ms/step - loss: 0.4563 - accuracy: 0.7858 - val_loss: 0.6464 - val_accuracy: 0.6112\n",
      "Epoch 87/100\n",
      "646/646 [==============================] - 2s 4ms/step - loss: 0.4572 - accuracy: 0.7861 - val_loss: 0.5979 - val_accuracy: 0.6498\n",
      "Epoch 88/100\n",
      "646/646 [==============================] - 2s 4ms/step - loss: 0.4558 - accuracy: 0.7887 - val_loss: 0.6118 - val_accuracy: 0.6147\n",
      "Epoch 89/100\n",
      "646/646 [==============================] - 2s 4ms/step - loss: 0.4528 - accuracy: 0.7869 - val_loss: 0.6015 - val_accuracy: 0.6273\n",
      "Epoch 90/100\n",
      "646/646 [==============================] - 2s 4ms/step - loss: 0.4540 - accuracy: 0.7868 - val_loss: 0.6048 - val_accuracy: 0.6381\n",
      "Epoch 91/100\n",
      "646/646 [==============================] - 2s 4ms/step - loss: 0.4561 - accuracy: 0.7855 - val_loss: 0.6568 - val_accuracy: 0.6205\n",
      "Epoch 92/100\n",
      "646/646 [==============================] - 2s 4ms/step - loss: 0.4536 - accuracy: 0.7874 - val_loss: 0.6247 - val_accuracy: 0.6439\n",
      "Epoch 93/100\n",
      "646/646 [==============================] - 2s 4ms/step - loss: 0.4560 - accuracy: 0.7869 - val_loss: 0.5985 - val_accuracy: 0.6263\n",
      "Epoch 94/100\n",
      "646/646 [==============================] - 2s 4ms/step - loss: 0.4521 - accuracy: 0.7876 - val_loss: 0.5577 - val_accuracy: 0.6689\n",
      "Epoch 95/100\n",
      "646/646 [==============================] - 2s 4ms/step - loss: 0.4527 - accuracy: 0.7894 - val_loss: 0.6235 - val_accuracy: 0.6348\n",
      "Epoch 96/100\n",
      "646/646 [==============================] - 2s 4ms/step - loss: 0.4776 - accuracy: 0.7857 - val_loss: 0.5943 - val_accuracy: 0.6300\n",
      "Epoch 97/100\n",
      "646/646 [==============================] - 2s 4ms/step - loss: 0.4508 - accuracy: 0.7868 - val_loss: 0.5826 - val_accuracy: 0.6500\n",
      "Epoch 98/100\n",
      "646/646 [==============================] - 2s 4ms/step - loss: 0.4527 - accuracy: 0.7890 - val_loss: 0.6177 - val_accuracy: 0.6221\n",
      "Epoch 99/100\n",
      "646/646 [==============================] - 2s 4ms/step - loss: 0.4519 - accuracy: 0.7889 - val_loss: 0.6041 - val_accuracy: 0.6683\n",
      "Epoch 100/100\n",
      "646/646 [==============================] - 2s 4ms/step - loss: 0.4594 - accuracy: 0.7896 - val_loss: 0.5526 - val_accuracy: 0.6943\n"
     ]
    }
   ],
   "source": [
    "history = model.fit(X_train, y_train, epochs=100, validation_split=0.2)"
   ]
  },
  {
   "cell_type": "code",
   "execution_count": 275,
   "id": "d94b4320",
   "metadata": {},
   "outputs": [
    {
     "name": "stdout",
     "output_type": "stream",
     "text": [
      "178/178 [==============================] - 0s 649us/step - loss: 0.3811 - accuracy: 0.8545\n",
      "Test loss: 0.3810683786869049, Test accuracy: 0.8544716835021973\n"
     ]
    }
   ],
   "source": [
    "test_loss, test_accuracy = model.evaluate(X_test, y_test)\n",
    "print('Test loss: {}, Test accuracy: {}'.format(test_loss, test_accuracy))"
   ]
  },
  {
   "cell_type": "code",
   "execution_count": 276,
   "id": "fbab34a7",
   "metadata": {},
   "outputs": [
    {
     "name": "stdout",
     "output_type": "stream",
     "text": [
      "178/178 [==============================] - 0s 601us/step\n"
     ]
    }
   ],
   "source": [
    "y_pred = model.predict(X_test)"
   ]
  },
  {
   "cell_type": "code",
   "execution_count": 277,
   "id": "f99dd249",
   "metadata": {},
   "outputs": [],
   "source": [
    "y_pred = [1 if x > 0.5 else 0 for x in y_pred]"
   ]
  },
  {
   "cell_type": "code",
   "execution_count": 278,
   "id": "cba536b6",
   "metadata": {},
   "outputs": [
    {
     "name": "stdout",
     "output_type": "stream",
     "text": [
      "[[4783  752]\n",
      " [  73   61]]\n"
     ]
    }
   ],
   "source": [
    "print(confusion_matrix(y_test, y_pred))"
   ]
  },
  {
   "cell_type": "code",
   "execution_count": 279,
   "id": "42eb98bf",
   "metadata": {
    "scrolled": false
   },
   "outputs": [
    {
     "name": "stdout",
     "output_type": "stream",
     "text": [
      "              precision    recall  f1-score   support\n",
      "\n",
      "           0       0.98      0.86      0.92      5535\n",
      "           1       0.08      0.46      0.13       134\n",
      "\n",
      "    accuracy                           0.85      5669\n",
      "   macro avg       0.53      0.66      0.52      5669\n",
      "weighted avg       0.96      0.85      0.90      5669\n",
      "\n"
     ]
    }
   ],
   "source": [
    "print(classification_report(y_test, y_pred))"
   ]
  },
  {
   "cell_type": "code",
   "execution_count": 280,
   "id": "1fdd18d6",
   "metadata": {},
   "outputs": [
    {
     "name": "stdout",
     "output_type": "stream",
     "text": [
      "\n",
      "Precision: 0.07503075030750307\n",
      "Recall: 0.4552238805970149\n",
      "Area Under Curve (AUC): 0.6596805943183811\n",
      "\n"
     ]
    }
   ],
   "source": [
    "print(f'''\n",
    "Precision: {precision_score(y_test, y_pred)}\n",
    "Recall: {recall_score(y_test, y_pred)}\n",
    "Area Under Curve (AUC): {roc_auc_score(y_test, y_pred)}\n",
    "''')"
   ]
  },
  {
   "cell_type": "code",
   "execution_count": null,
   "id": "08e4ce3c",
   "metadata": {},
   "outputs": [],
   "source": []
  },
  {
   "cell_type": "code",
   "execution_count": 283,
   "id": "b64e6376",
   "metadata": {},
   "outputs": [
    {
     "data": {
      "text/plain": [
       "array([[4783,  752],\n",
       "       [  73,   61]])"
      ]
     },
     "execution_count": 283,
     "metadata": {},
     "output_type": "execute_result"
    }
   ],
   "source": [
    "confusion_matrix(y_test, y_pred)"
   ]
  },
  {
   "cell_type": "code",
   "execution_count": null,
   "id": "56326df2",
   "metadata": {},
   "outputs": [],
   "source": []
  },
  {
   "cell_type": "code",
   "execution_count": null,
   "id": "6699d882",
   "metadata": {},
   "outputs": [],
   "source": []
  },
  {
   "cell_type": "code",
   "execution_count": null,
   "id": "634ec3e5",
   "metadata": {},
   "outputs": [],
   "source": []
  },
  {
   "cell_type": "markdown",
   "id": "2f78d3ba",
   "metadata": {},
   "source": [
    "## XGBoost"
   ]
  },
  {
   "cell_type": "code",
   "execution_count": 66,
   "id": "0493f5a9",
   "metadata": {},
   "outputs": [
    {
     "data": {
      "text/html": [
       "<style>#sk-container-id-6 {color: black;background-color: white;}#sk-container-id-6 pre{padding: 0;}#sk-container-id-6 div.sk-toggleable {background-color: white;}#sk-container-id-6 label.sk-toggleable__label {cursor: pointer;display: block;width: 100%;margin-bottom: 0;padding: 0.3em;box-sizing: border-box;text-align: center;}#sk-container-id-6 label.sk-toggleable__label-arrow:before {content: \"▸\";float: left;margin-right: 0.25em;color: #696969;}#sk-container-id-6 label.sk-toggleable__label-arrow:hover:before {color: black;}#sk-container-id-6 div.sk-estimator:hover label.sk-toggleable__label-arrow:before {color: black;}#sk-container-id-6 div.sk-toggleable__content {max-height: 0;max-width: 0;overflow: hidden;text-align: left;background-color: #f0f8ff;}#sk-container-id-6 div.sk-toggleable__content pre {margin: 0.2em;color: black;border-radius: 0.25em;background-color: #f0f8ff;}#sk-container-id-6 input.sk-toggleable__control:checked~div.sk-toggleable__content {max-height: 200px;max-width: 100%;overflow: auto;}#sk-container-id-6 input.sk-toggleable__control:checked~label.sk-toggleable__label-arrow:before {content: \"▾\";}#sk-container-id-6 div.sk-estimator input.sk-toggleable__control:checked~label.sk-toggleable__label {background-color: #d4ebff;}#sk-container-id-6 div.sk-label input.sk-toggleable__control:checked~label.sk-toggleable__label {background-color: #d4ebff;}#sk-container-id-6 input.sk-hidden--visually {border: 0;clip: rect(1px 1px 1px 1px);clip: rect(1px, 1px, 1px, 1px);height: 1px;margin: -1px;overflow: hidden;padding: 0;position: absolute;width: 1px;}#sk-container-id-6 div.sk-estimator {font-family: monospace;background-color: #f0f8ff;border: 1px dotted black;border-radius: 0.25em;box-sizing: border-box;margin-bottom: 0.5em;}#sk-container-id-6 div.sk-estimator:hover {background-color: #d4ebff;}#sk-container-id-6 div.sk-parallel-item::after {content: \"\";width: 100%;border-bottom: 1px solid gray;flex-grow: 1;}#sk-container-id-6 div.sk-label:hover label.sk-toggleable__label {background-color: #d4ebff;}#sk-container-id-6 div.sk-serial::before {content: \"\";position: absolute;border-left: 1px solid gray;box-sizing: border-box;top: 0;bottom: 0;left: 50%;z-index: 0;}#sk-container-id-6 div.sk-serial {display: flex;flex-direction: column;align-items: center;background-color: white;padding-right: 0.2em;padding-left: 0.2em;position: relative;}#sk-container-id-6 div.sk-item {position: relative;z-index: 1;}#sk-container-id-6 div.sk-parallel {display: flex;align-items: stretch;justify-content: center;background-color: white;position: relative;}#sk-container-id-6 div.sk-item::before, #sk-container-id-6 div.sk-parallel-item::before {content: \"\";position: absolute;border-left: 1px solid gray;box-sizing: border-box;top: 0;bottom: 0;left: 50%;z-index: -1;}#sk-container-id-6 div.sk-parallel-item {display: flex;flex-direction: column;z-index: 1;position: relative;background-color: white;}#sk-container-id-6 div.sk-parallel-item:first-child::after {align-self: flex-end;width: 50%;}#sk-container-id-6 div.sk-parallel-item:last-child::after {align-self: flex-start;width: 50%;}#sk-container-id-6 div.sk-parallel-item:only-child::after {width: 0;}#sk-container-id-6 div.sk-dashed-wrapped {border: 1px dashed gray;margin: 0 0.4em 0.5em 0.4em;box-sizing: border-box;padding-bottom: 0.4em;background-color: white;}#sk-container-id-6 div.sk-label label {font-family: monospace;font-weight: bold;display: inline-block;line-height: 1.2em;}#sk-container-id-6 div.sk-label-container {text-align: center;}#sk-container-id-6 div.sk-container {/* jupyter's `normalize.less` sets `[hidden] { display: none; }` but bootstrap.min.css set `[hidden] { display: none !important; }` so we also need the `!important` here to be able to override the default hidden behavior on the sphinx rendered scikit-learn.org. See: https://github.com/scikit-learn/scikit-learn/issues/21755 */display: inline-block !important;position: relative;}#sk-container-id-6 div.sk-text-repr-fallback {display: none;}</style><div id=\"sk-container-id-6\" class=\"sk-top-container\"><div class=\"sk-text-repr-fallback\"><pre>XGBClassifier(base_score=None, booster=None, callbacks=None,\n",
       "              colsample_bylevel=None, colsample_bynode=None,\n",
       "              colsample_bytree=None, early_stopping_rounds=None,\n",
       "              enable_categorical=False, eval_metric=None, feature_types=None,\n",
       "              gamma=None, gpu_id=None, grow_policy=None, importance_type=None,\n",
       "              interaction_constraints=None, learning_rate=1, max_bin=None,\n",
       "              max_cat_threshold=None, max_cat_to_onehot=None,\n",
       "              max_delta_step=None, max_depth=2, max_leaves=None,\n",
       "              min_child_weight=None, missing=nan, monotone_constraints=None,\n",
       "              n_estimators=250, n_jobs=None, num_parallel_tree=None,\n",
       "              predictor=None, random_state=None, ...)</pre><b>In a Jupyter environment, please rerun this cell to show the HTML representation or trust the notebook. <br />On GitHub, the HTML representation is unable to render, please try loading this page with nbviewer.org.</b></div><div class=\"sk-container\" hidden><div class=\"sk-item\"><div class=\"sk-estimator sk-toggleable\"><input class=\"sk-toggleable__control sk-hidden--visually\" id=\"sk-estimator-id-6\" type=\"checkbox\" checked><label for=\"sk-estimator-id-6\" class=\"sk-toggleable__label sk-toggleable__label-arrow\">XGBClassifier</label><div class=\"sk-toggleable__content\"><pre>XGBClassifier(base_score=None, booster=None, callbacks=None,\n",
       "              colsample_bylevel=None, colsample_bynode=None,\n",
       "              colsample_bytree=None, early_stopping_rounds=None,\n",
       "              enable_categorical=False, eval_metric=None, feature_types=None,\n",
       "              gamma=None, gpu_id=None, grow_policy=None, importance_type=None,\n",
       "              interaction_constraints=None, learning_rate=1, max_bin=None,\n",
       "              max_cat_threshold=None, max_cat_to_onehot=None,\n",
       "              max_delta_step=None, max_depth=2, max_leaves=None,\n",
       "              min_child_weight=None, missing=nan, monotone_constraints=None,\n",
       "              n_estimators=250, n_jobs=None, num_parallel_tree=None,\n",
       "              predictor=None, random_state=None, ...)</pre></div></div></div></div></div>"
      ],
      "text/plain": [
       "XGBClassifier(base_score=None, booster=None, callbacks=None,\n",
       "              colsample_bylevel=None, colsample_bynode=None,\n",
       "              colsample_bytree=None, early_stopping_rounds=None,\n",
       "              enable_categorical=False, eval_metric=None, feature_types=None,\n",
       "              gamma=None, gpu_id=None, grow_policy=None, importance_type=None,\n",
       "              interaction_constraints=None, learning_rate=1, max_bin=None,\n",
       "              max_cat_threshold=None, max_cat_to_onehot=None,\n",
       "              max_delta_step=None, max_depth=2, max_leaves=None,\n",
       "              min_child_weight=None, missing=nan, monotone_constraints=None,\n",
       "              n_estimators=250, n_jobs=None, num_parallel_tree=None,\n",
       "              predictor=None, random_state=None, ...)"
      ]
     },
     "execution_count": 66,
     "metadata": {},
     "output_type": "execute_result"
    }
   ],
   "source": [
    "bst = xgb.XGBClassifier(n_estimators=250, max_depth=2, learning_rate=1, objective='binary:logistic')\n",
    "bst.fit(X_train, y_train)"
   ]
  },
  {
   "cell_type": "code",
   "execution_count": 67,
   "id": "bc065d26",
   "metadata": {},
   "outputs": [],
   "source": [
    "y_pred = bst.predict(X_test)"
   ]
  },
  {
   "cell_type": "code",
   "execution_count": 68,
   "id": "0989ece0",
   "metadata": {},
   "outputs": [
    {
     "name": "stdout",
     "output_type": "stream",
     "text": [
      "[[4712  823]\n",
      " [  63   71]]\n"
     ]
    }
   ],
   "source": [
    "print(confusion_matrix(y_test, y_pred))"
   ]
  },
  {
   "cell_type": "code",
   "execution_count": 69,
   "id": "2486f7ce",
   "metadata": {},
   "outputs": [
    {
     "name": "stdout",
     "output_type": "stream",
     "text": [
      "              precision    recall  f1-score   support\n",
      "\n",
      "           0       0.99      0.85      0.91      5535\n",
      "           1       0.08      0.53      0.14       134\n",
      "\n",
      "    accuracy                           0.84      5669\n",
      "   macro avg       0.53      0.69      0.53      5669\n",
      "weighted avg       0.97      0.84      0.90      5669\n",
      "\n"
     ]
    }
   ],
   "source": [
    "print(classification_report(y_test, y_pred))"
   ]
  },
  {
   "cell_type": "code",
   "execution_count": 65,
   "id": "6b20a882",
   "metadata": {},
   "outputs": [
    {
     "name": "stdout",
     "output_type": "stream",
     "text": [
      "Best: -0.309010 using {'n_estimators': 250}\n",
      "-0.339892 (0.007701) with: {'n_estimators': 50}\n",
      "-0.317818 (0.008171) with: {'n_estimators': 100}\n",
      "-0.311842 (0.007483) with: {'n_estimators': 150}\n",
      "-0.309957 (0.007989) with: {'n_estimators': 200}\n",
      "-0.309010 (0.007978) with: {'n_estimators': 250}\n",
      "-0.309433 (0.007982) with: {'n_estimators': 300}\n",
      "-0.310427 (0.007860) with: {'n_estimators': 350}\n",
      "-0.311618 (0.007945) with: {'n_estimators': 400}\n"
     ]
    }
   ],
   "source": [
    "#GridSearch\n",
    "model = xgb.XGBClassifier()\n",
    "\n",
    "n_estimators = range(50, 401, 50)\n",
    "param_grid = dict(n_estimators=n_estimators)\n",
    "kfold = StratifiedKFold(n_splits=10, shuffle=True, random_state=123)\n",
    "grid_search = GridSearchCV(model, param_grid, scoring = 'neg_log_loss', n_jobs=-1, cv=kfold)\n",
    "grid_result = grid_search.fit(X_train, y_train)\n",
    "\n",
    "# Summarize the result\n",
    "means = grid_result.cv_results_['mean_test_score']\n",
    "stds = grid_result.cv_results_['std_test_score']\n",
    "params = grid_result.cv_results_['params']\n",
    "\n",
    "print(\"Best: %f using %s\" % (grid_result.best_score_, grid_result.best_params_))\n",
    "for mean, stdev, param in zip(means, stds, params):\n",
    "    print(\"%f (%f) with: %r\" % (mean, stdev, param))"
   ]
  },
  {
   "cell_type": "code",
   "execution_count": null,
   "id": "76e8e656",
   "metadata": {},
   "outputs": [],
   "source": []
  },
  {
   "cell_type": "code",
   "execution_count": null,
   "id": "83cdc4fc",
   "metadata": {},
   "outputs": [],
   "source": []
  },
  {
   "cell_type": "markdown",
   "id": "0bf9c75f",
   "metadata": {},
   "source": [
    "## Logistic Regression"
   ]
  },
  {
   "cell_type": "code",
   "execution_count": 71,
   "id": "6458a6d2",
   "metadata": {},
   "outputs": [
    {
     "data": {
      "text/html": [
       "<style>#sk-container-id-7 {color: black;background-color: white;}#sk-container-id-7 pre{padding: 0;}#sk-container-id-7 div.sk-toggleable {background-color: white;}#sk-container-id-7 label.sk-toggleable__label {cursor: pointer;display: block;width: 100%;margin-bottom: 0;padding: 0.3em;box-sizing: border-box;text-align: center;}#sk-container-id-7 label.sk-toggleable__label-arrow:before {content: \"▸\";float: left;margin-right: 0.25em;color: #696969;}#sk-container-id-7 label.sk-toggleable__label-arrow:hover:before {color: black;}#sk-container-id-7 div.sk-estimator:hover label.sk-toggleable__label-arrow:before {color: black;}#sk-container-id-7 div.sk-toggleable__content {max-height: 0;max-width: 0;overflow: hidden;text-align: left;background-color: #f0f8ff;}#sk-container-id-7 div.sk-toggleable__content pre {margin: 0.2em;color: black;border-radius: 0.25em;background-color: #f0f8ff;}#sk-container-id-7 input.sk-toggleable__control:checked~div.sk-toggleable__content {max-height: 200px;max-width: 100%;overflow: auto;}#sk-container-id-7 input.sk-toggleable__control:checked~label.sk-toggleable__label-arrow:before {content: \"▾\";}#sk-container-id-7 div.sk-estimator input.sk-toggleable__control:checked~label.sk-toggleable__label {background-color: #d4ebff;}#sk-container-id-7 div.sk-label input.sk-toggleable__control:checked~label.sk-toggleable__label {background-color: #d4ebff;}#sk-container-id-7 input.sk-hidden--visually {border: 0;clip: rect(1px 1px 1px 1px);clip: rect(1px, 1px, 1px, 1px);height: 1px;margin: -1px;overflow: hidden;padding: 0;position: absolute;width: 1px;}#sk-container-id-7 div.sk-estimator {font-family: monospace;background-color: #f0f8ff;border: 1px dotted black;border-radius: 0.25em;box-sizing: border-box;margin-bottom: 0.5em;}#sk-container-id-7 div.sk-estimator:hover {background-color: #d4ebff;}#sk-container-id-7 div.sk-parallel-item::after {content: \"\";width: 100%;border-bottom: 1px solid gray;flex-grow: 1;}#sk-container-id-7 div.sk-label:hover label.sk-toggleable__label {background-color: #d4ebff;}#sk-container-id-7 div.sk-serial::before {content: \"\";position: absolute;border-left: 1px solid gray;box-sizing: border-box;top: 0;bottom: 0;left: 50%;z-index: 0;}#sk-container-id-7 div.sk-serial {display: flex;flex-direction: column;align-items: center;background-color: white;padding-right: 0.2em;padding-left: 0.2em;position: relative;}#sk-container-id-7 div.sk-item {position: relative;z-index: 1;}#sk-container-id-7 div.sk-parallel {display: flex;align-items: stretch;justify-content: center;background-color: white;position: relative;}#sk-container-id-7 div.sk-item::before, #sk-container-id-7 div.sk-parallel-item::before {content: \"\";position: absolute;border-left: 1px solid gray;box-sizing: border-box;top: 0;bottom: 0;left: 50%;z-index: -1;}#sk-container-id-7 div.sk-parallel-item {display: flex;flex-direction: column;z-index: 1;position: relative;background-color: white;}#sk-container-id-7 div.sk-parallel-item:first-child::after {align-self: flex-end;width: 50%;}#sk-container-id-7 div.sk-parallel-item:last-child::after {align-self: flex-start;width: 50%;}#sk-container-id-7 div.sk-parallel-item:only-child::after {width: 0;}#sk-container-id-7 div.sk-dashed-wrapped {border: 1px dashed gray;margin: 0 0.4em 0.5em 0.4em;box-sizing: border-box;padding-bottom: 0.4em;background-color: white;}#sk-container-id-7 div.sk-label label {font-family: monospace;font-weight: bold;display: inline-block;line-height: 1.2em;}#sk-container-id-7 div.sk-label-container {text-align: center;}#sk-container-id-7 div.sk-container {/* jupyter's `normalize.less` sets `[hidden] { display: none; }` but bootstrap.min.css set `[hidden] { display: none !important; }` so we also need the `!important` here to be able to override the default hidden behavior on the sphinx rendered scikit-learn.org. See: https://github.com/scikit-learn/scikit-learn/issues/21755 */display: inline-block !important;position: relative;}#sk-container-id-7 div.sk-text-repr-fallback {display: none;}</style><div id=\"sk-container-id-7\" class=\"sk-top-container\"><div class=\"sk-text-repr-fallback\"><pre>LogisticRegression()</pre><b>In a Jupyter environment, please rerun this cell to show the HTML representation or trust the notebook. <br />On GitHub, the HTML representation is unable to render, please try loading this page with nbviewer.org.</b></div><div class=\"sk-container\" hidden><div class=\"sk-item\"><div class=\"sk-estimator sk-toggleable\"><input class=\"sk-toggleable__control sk-hidden--visually\" id=\"sk-estimator-id-7\" type=\"checkbox\" checked><label for=\"sk-estimator-id-7\" class=\"sk-toggleable__label sk-toggleable__label-arrow\">LogisticRegression</label><div class=\"sk-toggleable__content\"><pre>LogisticRegression()</pre></div></div></div></div></div>"
      ],
      "text/plain": [
       "LogisticRegression()"
      ]
     },
     "execution_count": 71,
     "metadata": {},
     "output_type": "execute_result"
    }
   ],
   "source": [
    "lgr = LogisticRegression()\n",
    "lgr.fit(X_train, y_train)"
   ]
  },
  {
   "cell_type": "code",
   "execution_count": 72,
   "id": "1ef7e41c",
   "metadata": {},
   "outputs": [],
   "source": [
    "y_pred = lgr.predict(X_test)"
   ]
  },
  {
   "cell_type": "code",
   "execution_count": 73,
   "id": "a1136eab",
   "metadata": {},
   "outputs": [
    {
     "name": "stdout",
     "output_type": "stream",
     "text": [
      "[[4833  702]\n",
      " [  79   55]]\n"
     ]
    }
   ],
   "source": [
    "print(confusion_matrix(y_test, y_pred))"
   ]
  },
  {
   "cell_type": "code",
   "execution_count": null,
   "id": "520be2d6",
   "metadata": {},
   "outputs": [],
   "source": []
  }
 ],
 "metadata": {
  "kernelspec": {
   "display_name": "Python [conda env:py39]",
   "language": "python",
   "name": "conda-env-py39-py"
  },
  "language_info": {
   "codemirror_mode": {
    "name": "ipython",
    "version": 3
   },
   "file_extension": ".py",
   "mimetype": "text/x-python",
   "name": "python",
   "nbconvert_exporter": "python",
   "pygments_lexer": "ipython3",
   "version": "3.9.16"
  }
 },
 "nbformat": 4,
 "nbformat_minor": 5
}
